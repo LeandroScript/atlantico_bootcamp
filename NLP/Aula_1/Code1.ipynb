{
  "nbformat": 4,
  "nbformat_minor": 0,
  "metadata": {
    "colab": {
      "name": "Code1",
      "provenance": []
    },
    "kernelspec": {
      "name": "python3",
      "display_name": "Python 3"
    },
    "language_info": {
      "name": "python"
    }
  },
  "cells": [
    {
      "cell_type": "code",
      "execution_count": 6,
      "metadata": {
        "id": "sBKbe056ZWpK"
      },
      "outputs": [],
      "source": [
        "import re\n",
        "# Write a pattern to match sentence endings: sentence_endings\n",
        "my_string = \"Let's write RegEx!  Won't that be fun?  \" \\\n",
        "            \"I sure think so.  Can you find 4 sentences? \" \\\n",
        "            \"Or perhaps, all 19 words?\"\n",
        "\n"
      ]
    },
    {
      "cell_type": "code",
      "source": [
        "sentence_endings = r\"[.?!]\"\n",
        "# Split my_string on sentence endings and print the result\n",
        "print(re.split(sentence_endings, my_string))\n",
        "\n"
      ],
      "metadata": {
        "colab": {
          "base_uri": "https://localhost:8080/"
        },
        "id": "iqNsN9Y5Zm0o",
        "outputId": "fdc2a19b-7503-4676-af90-80ae70b766aa"
      },
      "execution_count": 7,
      "outputs": [
        {
          "output_type": "stream",
          "name": "stdout",
          "text": [
            "[\"Let's write RegEx\", \"  Won't that be fun\", '  I sure think so', '  Can you find 4 sentences', ' Or perhaps, all 19 words', '']\n"
          ]
        }
      ]
    },
    {
      "cell_type": "code",
      "source": [
        "# Split my_string on spaces and print the result\n",
        "spaces = r\"\\s+\"\n",
        "print(re.split(spaces, my_string))\n",
        "\n"
      ],
      "metadata": {
        "colab": {
          "base_uri": "https://localhost:8080/"
        },
        "id": "pyIDnclSZqZ2",
        "outputId": "79e8f754-2ec5-4be0-f3f0-f051ee8fa0d9"
      },
      "execution_count": 3,
      "outputs": [
        {
          "output_type": "stream",
          "name": "stdout",
          "text": [
            "[\"Let's\", 'write', 'RegEx!', \"Won't\", 'that', 'be', 'fun?', 'I', 'sure', 'think', 'so.', 'Can', 'you', 'find', '4', 'sentences?', 'Or', 'perhaps,', 'all', '19', 'words?']\n"
          ]
        }
      ]
    },
    {
      "cell_type": "code",
      "source": [
        "# Find all digits in my_string and print the result\n",
        "digits = r\"\\d+\"\n",
        "print(re.findall(digits, my_string))"
      ],
      "metadata": {
        "colab": {
          "base_uri": "https://localhost:8080/"
        },
        "id": "9-KXq-fZZvAe",
        "outputId": "1dcd31b5-f388-4ecc-96e8-ec18f3a98a4b"
      },
      "execution_count": 4,
      "outputs": [
        {
          "output_type": "stream",
          "name": "stdout",
          "text": [
            "['4', '19']\n"
          ]
        }
      ]
    }
  ]
}